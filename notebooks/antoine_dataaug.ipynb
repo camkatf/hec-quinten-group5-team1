{
 "cells": [
  {
   "cell_type": "markdown",
   "metadata": {},
   "source": [
    "## Import libraries and define parameters"
   ]
  },
  {
   "cell_type": "code",
   "execution_count": 1,
   "metadata": {},
   "outputs": [
    {
     "name": "stderr",
     "output_type": "stream",
     "text": [
      "/Library/Frameworks/Python.framework/Versions/3.9/lib/python3.9/site-packages/tqdm/auto.py:22: TqdmWarning: IProgress not found. Please update jupyter and ipywidgets. See https://ipywidgets.readthedocs.io/en/stable/user_install.html\n",
      "  from .autonotebook import tqdm as notebook_tqdm\n"
     ]
    }
   ],
   "source": [
    "import pandas as pd\n",
    "import os\n",
    "import nlpaug.augmenter.word as naw\n",
    "from tqdm import tqdm"
   ]
  },
  {
   "cell_type": "code",
   "execution_count": 2,
   "metadata": {},
   "outputs": [],
   "source": [
    "DATA_PATH = \"/Users/Antoine/Desktop/Cours/X-HEC/HEC/Cours/Quinten - drug prescription\"\n"
   ]
  },
  {
   "cell_type": "markdown",
   "metadata": {},
   "source": [
    "## Import and shape data"
   ]
  },
  {
   "cell_type": "code",
   "execution_count": 3,
   "metadata": {},
   "outputs": [],
   "source": [
    "import json\n",
    "\n",
    "with open(os.path.join(DATA_PATH, 'trainset.jsonl'), 'r') as json_file:\n",
    "    json_list = list(json_file)"
   ]
  },
  {
   "cell_type": "code",
   "execution_count": 4,
   "metadata": {},
   "outputs": [
    {
     "name": "stderr",
     "output_type": "stream",
     "text": [
      "100%|██████████| 567/567 [00:00<00:00, 19284.55it/s]"
     ]
    },
    {
     "name": "stdout",
     "output_type": "stream",
     "text": [
      "(567, 2)\n"
     ]
    },
    {
     "name": "stderr",
     "output_type": "stream",
     "text": [
      "\n"
     ]
    },
    {
     "data": {
      "text/html": [
       "<div>\n",
       "<style scoped>\n",
       "    .dataframe tbody tr th:only-of-type {\n",
       "        vertical-align: middle;\n",
       "    }\n",
       "\n",
       "    .dataframe tbody tr th {\n",
       "        vertical-align: top;\n",
       "    }\n",
       "\n",
       "    .dataframe thead tr th {\n",
       "        text-align: left;\n",
       "    }\n",
       "</style>\n",
       "<table border=\"1\" class=\"dataframe\">\n",
       "  <thead>\n",
       "    <tr>\n",
       "      <th></th>\n",
       "      <th>id</th>\n",
       "      <th>text</th>\n",
       "    </tr>\n",
       "  </thead>\n",
       "  <tbody>\n",
       "    <tr>\n",
       "      <th>0</th>\n",
       "      <td>1</td>\n",
       "      <td>Un homme âgé de 77 ans présentait des signes c...</td>\n",
       "    </tr>\n",
       "    <tr>\n",
       "      <th>1</th>\n",
       "      <td>2</td>\n",
       "      <td>Mr. R,R âgé de 53 ans sans antécédents patholo...</td>\n",
       "    </tr>\n",
       "  </tbody>\n",
       "</table>\n",
       "</div>"
      ],
      "text/plain": [
       "  id                                               text\n",
       "0  1  Un homme âgé de 77 ans présentait des signes c...\n",
       "1  2  Mr. R,R âgé de 53 ans sans antécédents patholo..."
      ]
     },
     "execution_count": 4,
     "metadata": {},
     "output_type": "execute_result"
    }
   ],
   "source": [
    "data_list = []\n",
    "for json_str in tqdm(json_list):\n",
    "    result = json.loads(json_str)\n",
    "    data_list.append([result.get('id'), result.get('text')])\n",
    "\n",
    "df = pd.DataFrame(data_list, columns=[[\"id\", \"text\"]])\n",
    "print(df.shape)\n",
    "df.head(2)"
   ]
  },
  {
   "cell_type": "code",
   "execution_count": 5,
   "metadata": {},
   "outputs": [
    {
     "data": {
      "text/plain": [
       "\"Mr. R,R âgé de 53 ans sans antécédents pathologiques particuliers a été admis aux urgences pour rétention aiguè d'urine avec hématurie macroscopique. L'examen clinique était sans particularités. Le toucher rectal retrouvait une prostate augmentée de volume, non douloureuse, d'allure adénomateuse. Le dosage du PSA retrouvait un taux de 30,1 mg/ml (normale < 4 ng/ml). L'échographie endorectale montrait une prostate de structure homogène. Après échec de sondage vésical, une cystostomie à minima a été mise en place. Une UCR faite montrait une vessie d'aspect normal et un urèthre prostatique dilaté en amont d'une image lacunaire au niveau de l'urètre prostatique (Figure 1). Le patient a bénéficié d'une résection transurétrale de la prostate dont les suites sont simples. L'examen anatomopathologique de la pièce montrait que la totalité des copeaux comportait une prolifération tumorale faite de massifs et de structures tubulo-papillaire avec des cellules tumorales cubocylindriques à cytoplasme éosinophile ou clarifié PAS positif et à noyaux arrondis hyperchromatiques (Figure 2). Le diagnostic d'adénocarcinome ductal de la prostate était porté.\\n\\nLe patient a été revu 1 mois après à la consultation et a subit une radiothérapie après avoir refusé une orchidectomie. Après un recul de un an, le taux de PSA était normal (normal inferieure à 4 ng/ml).\\n\""
      ]
     },
     "execution_count": 5,
     "metadata": {},
     "output_type": "execute_result"
    }
   ],
   "source": [
    "text_sample = df.iloc[1, 1]\n",
    "text_sample"
   ]
  },
  {
   "cell_type": "markdown",
   "metadata": {},
   "source": [
    "## Apply model\n",
    "### We use a back translation model taken from nlpaug"
   ]
  },
  {
   "cell_type": "code",
   "execution_count": 6,
   "metadata": {},
   "outputs": [
    {
     "name": "stderr",
     "output_type": "stream",
     "text": [
      "Downloading: 100%|██████████| 802k/802k [00:00<00:00, 2.10MB/s]\n",
      "Downloading: 100%|██████████| 778k/778k [00:00<00:00, 1.67MB/s]\n",
      "Downloading: 100%|██████████| 1.34M/1.34M [00:00<00:00, 1.95MB/s]\n",
      "Downloading: 100%|██████████| 42.0/42.0 [00:00<00:00, 7.29kB/s]\n",
      "Downloading: 100%|██████████| 778k/778k [00:00<00:00, 1.44MB/s]\n",
      "Downloading: 100%|██████████| 802k/802k [00:00<00:00, 1.30MB/s] \n",
      "Downloading: 100%|██████████| 1.34M/1.34M [00:00<00:00, 2.37MB/s]\n"
     ]
    }
   ],
   "source": [
    "back_translation_aug = naw.BackTranslationAug(\n",
    "    from_model_name='Helsinki-NLP/opus-mt-fr-en', \n",
    "    to_model_name='Helsinki-NLP/opus-mt-en-fr'\n",
    ")"
   ]
  },
  {
   "cell_type": "code",
   "execution_count": 11,
   "metadata": {},
   "outputs": [
    {
     "data": {
      "text/plain": [
       "\"Mr. R,R âgé de 53 ans sans antécédents pathologiques particuliers a été admis aux urgences pour rétention aiguè d'urine avec hématurie macroscopique. L'examen clinique était sans particularités. Le toucher rectal retrouvait une prostate augmentée de volume, non douloureuse, d'allure adénomateuse. Le dosage du PSA retrouvait un taux de 30,1 mg/ml (normale < 4 ng/ml). L'échographie endorectale montrait une prostate de structure homogène. Après échec de sondage vésical, une cystostomie à minima a été mise en place. Une UCR faite montrait une vessie d'aspect normal et un urèthre prostatique dilaté en amont d'une image lacunaire au niveau de l'urètre prostatique (Figure 1). Le patient a bénéficié d'une résection transurétrale de la prostate dont les suites sont simples. L'examen anatomopathologique de la pièce montrait que la totalité des copeaux comportait une prolifération tumorale faite de massifs et de structures tubulo-papillaire avec des cellules tumorales cubocylindriques à cytoplasme éosinophile ou clarifié PAS positif et à noyaux arrondis hyperchromatiques (Figure 2). Le diagnostic d'adénocarcinome ductal de la prostate était porté.  Le patient a été revu 1 mois après à la consultation et a subit une radiothérapie après avoir refusé une orchidectomie. Après un recul de un an, le taux de PSA était normal (normal inferieure à 4 ng/ml). \""
      ]
     },
     "execution_count": 11,
     "metadata": {},
     "output_type": "execute_result"
    }
   ],
   "source": [
    "text_sample"
   ]
  },
  {
   "cell_type": "code",
   "execution_count": 7,
   "metadata": {},
   "outputs": [
    {
     "data": {
      "text/plain": [
       "[\"L'examen clinique n'était pas inhabituel. Le toucher rectal était augmenté en volume, non douloureux, d'apparence adénomateuse. Le test PSA s'est avéré à un taux de 30,1 mg/ml (normal < 4 ng/ml). L'échographie endorectale a montré une structure de la prostate homogène. Après un échec d'échantillonnage vésical, une cystostomie minimale a été mise en place. Un ACR a montré une vessie normale et une urètre prostatique dilatée en amont d'une image lacustre à l'urètre prostatique (figure 1). Le patient a reçu une résection transurérale de la prostate avec des séquelles simples. L'examen anatomopathologique de la pièce a montré que tous les copalévaux impliquaient une prolifération tumorale faite de masses et de structures tubulo-papillaires avec une radiothérapie recombinante avec une cellule morphique recombinante et une cellule morphique recombinante.\"]"
      ]
     },
     "execution_count": 7,
     "metadata": {},
     "output_type": "execute_result"
    }
   ],
   "source": [
    "text_transformed = back_translation_aug.augment(text_sample)\n",
    "text_transformed"
   ]
  },
  {
   "cell_type": "code",
   "execution_count": 9,
   "metadata": {},
   "outputs": [
    {
     "data": {
      "text/plain": [
       "[\"L'examen clinique n'était pas inhabituel. Le toucher rectal était augmenté en volume, non douloureux, d'apparence adénomateuse. Le test PSA s'est avéré à un taux de 30,1 mg/ml (normal < 4 ng/ml). L'échographie endorectale a montré une structure de la prostate homogène. Après un échec d'échantillonnage vésical, une cystostomie minimale a été mise en place. Un ACR a montré une vessie normale et une urètre prostatique dilatée en amont d'une image lacustre à l'urètre prostatique (figure 1). Le patient a reçu une résection transurérale de la prostate avec des séquelles simples. L'examen anatomopathologique de la pièce a montré que tous les copalévaux impliquaient une prolifération tumorale faite de masses et de structures tubulo-papillaires avec une radiothérapie recombinante avec une cellule morphique recombinante et une cellule morphique recombinante.\"]"
      ]
     },
     "execution_count": 9,
     "metadata": {},
     "output_type": "execute_result"
    }
   ],
   "source": []
  },
  {
   "cell_type": "code",
   "execution_count": null,
   "metadata": {},
   "outputs": [],
   "source": []
  }
 ],
 "metadata": {
  "kernelspec": {
   "display_name": "Python 3.9.6 64-bit",
   "language": "python",
   "name": "python3"
  },
  "language_info": {
   "codemirror_mode": {
    "name": "ipython",
    "version": 3
   },
   "file_extension": ".py",
   "mimetype": "text/x-python",
   "name": "python",
   "nbconvert_exporter": "python",
   "pygments_lexer": "ipython3",
   "version": "3.9.6"
  },
  "orig_nbformat": 4,
  "vscode": {
   "interpreter": {
    "hash": "aee8b7b246df8f9039afb4144a1f6fd8d2ca17a180786b69acc140d282b71a49"
   }
  }
 },
 "nbformat": 4,
 "nbformat_minor": 2
}

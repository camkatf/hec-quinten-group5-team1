{
 "cells": [
  {
   "cell_type": "markdown",
   "metadata": {},
   "source": [
    "## Import libraries and define parameters"
   ]
  },
  {
   "cell_type": "code",
   "execution_count": 21,
   "metadata": {},
   "outputs": [],
   "source": [
    "import pandas as pd\n",
    "import json\n",
    "import numpy as np\n",
    "import os\n",
    "import nlpaug.augmenter.word as naw\n",
    "import re\n",
    "\n",
    "from tqdm import tqdm"
   ]
  },
  {
   "cell_type": "code",
   "execution_count": 5,
   "metadata": {},
   "outputs": [],
   "source": [
    "DATA_PATH = \"/Users/Antoine/Desktop/Cours/X-HEC/HEC/Cours/Quinten - drug prescription\"\n"
   ]
  },
  {
   "cell_type": "markdown",
   "metadata": {},
   "source": [
    "## Import and shape data"
   ]
  },
  {
   "cell_type": "code",
   "execution_count": 6,
   "metadata": {},
   "outputs": [
    {
     "name": "stderr",
     "output_type": "stream",
     "text": [
      "100%|██████████| 567/567 [00:12<00:00, 46.72it/s] \n"
     ]
    },
    {
     "name": "stdout",
     "output_type": "stream",
     "text": [
      "(567, 4)\n"
     ]
    },
    {
     "data": {
      "text/html": [
       "<div>\n",
       "<style scoped>\n",
       "    .dataframe tbody tr th:only-of-type {\n",
       "        vertical-align: middle;\n",
       "    }\n",
       "\n",
       "    .dataframe tbody tr th {\n",
       "        vertical-align: top;\n",
       "    }\n",
       "\n",
       "    .dataframe thead th {\n",
       "        text-align: right;\n",
       "    }\n",
       "</style>\n",
       "<table border=\"1\" class=\"dataframe\">\n",
       "  <thead>\n",
       "    <tr style=\"text-align: right;\">\n",
       "      <th></th>\n",
       "      <th>id</th>\n",
       "      <th>text</th>\n",
       "      <th>labels</th>\n",
       "      <th>comments</th>\n",
       "    </tr>\n",
       "  </thead>\n",
       "  <tbody>\n",
       "    <tr>\n",
       "      <th>0</th>\n",
       "      <td>1.0</td>\n",
       "      <td>Un homme âgé de 77 ans présentait des signes c...</td>\n",
       "      <td>[[692, 712, Treatment]]</td>\n",
       "      <td>[]</td>\n",
       "    </tr>\n",
       "    <tr>\n",
       "      <th>1</th>\n",
       "      <td>2.0</td>\n",
       "      <td>Mr. R,R âgé de 53 ans sans antécédents patholo...</td>\n",
       "      <td>[[1224, 1237, Treatment]]</td>\n",
       "      <td>[]</td>\n",
       "    </tr>\n",
       "    <tr>\n",
       "      <th>2</th>\n",
       "      <td>3.0</td>\n",
       "      <td>Un homme de 47 ans aux antécédents d’infarctus...</td>\n",
       "      <td>[]</td>\n",
       "      <td>[]</td>\n",
       "    </tr>\n",
       "    <tr>\n",
       "      <th>3</th>\n",
       "      <td>4.0</td>\n",
       "      <td>Mme C.S..., âgée de 25 ans, célibataire, sans ...</td>\n",
       "      <td>[]</td>\n",
       "      <td>[]</td>\n",
       "    </tr>\n",
       "    <tr>\n",
       "      <th>4</th>\n",
       "      <td>5.0</td>\n",
       "      <td>Un adénocarcinome prostatique avait été diagno...</td>\n",
       "      <td>[[183, 196, Treatment], [1374, 1388, Treatment...</td>\n",
       "      <td>[]</td>\n",
       "    </tr>\n",
       "  </tbody>\n",
       "</table>\n",
       "</div>"
      ],
      "text/plain": [
       "    id                                               text  \\\n",
       "0  1.0  Un homme âgé de 77 ans présentait des signes c...   \n",
       "1  2.0  Mr. R,R âgé de 53 ans sans antécédents patholo...   \n",
       "2  3.0  Un homme de 47 ans aux antécédents d’infarctus...   \n",
       "3  4.0  Mme C.S..., âgée de 25 ans, célibataire, sans ...   \n",
       "4  5.0  Un adénocarcinome prostatique avait été diagno...   \n",
       "\n",
       "                                              labels comments  \n",
       "0                            [[692, 712, Treatment]]       []  \n",
       "1                          [[1224, 1237, Treatment]]       []  \n",
       "2                                                 []       []  \n",
       "3                                                 []       []  \n",
       "4  [[183, 196, Treatment], [1374, 1388, Treatment...       []  "
      ]
     },
     "execution_count": 6,
     "metadata": {},
     "output_type": "execute_result"
    }
   ],
   "source": [
    "with open(os.path.join(DATA_PATH, 'trainset.jsonl'), 'r') as json_file:\n",
    "    json_list = list(json_file)\n",
    "ids = np.array([])\n",
    "texts = np.array([])\n",
    "labels = []\n",
    "comments = []\n",
    "for json_str in tqdm(json_list):\n",
    "    result = json.loads(json_str)\n",
    "    ids = np.append(ids, result['id'])\n",
    "    texts = np.append(texts, result['text'])\n",
    "    labels.append(result['labels'])\n",
    "    comments.append(result['Comments'])\n",
    "df = pd.DataFrame([ids, texts, labels, comments]).T\n",
    "df.columns = ['id', 'text', 'labels', 'comments']\n",
    "print(df.shape)\n",
    "df.head()"
   ]
  },
  {
   "cell_type": "code",
   "execution_count": 15,
   "metadata": {},
   "outputs": [
    {
     "name": "stderr",
     "output_type": "stream",
     "text": [
      "567it [00:00, 2247.01it/s]\n"
     ]
    },
    {
     "data": {
      "text/html": [
       "<div>\n",
       "<style scoped>\n",
       "    .dataframe tbody tr th:only-of-type {\n",
       "        vertical-align: middle;\n",
       "    }\n",
       "\n",
       "    .dataframe tbody tr th {\n",
       "        vertical-align: top;\n",
       "    }\n",
       "\n",
       "    .dataframe thead th {\n",
       "        text-align: right;\n",
       "    }\n",
       "</style>\n",
       "<table border=\"1\" class=\"dataframe\">\n",
       "  <thead>\n",
       "    <tr style=\"text-align: right;\">\n",
       "      <th></th>\n",
       "      <th>id</th>\n",
       "      <th>text</th>\n",
       "      <th>labels</th>\n",
       "      <th>comments</th>\n",
       "      <th>Treatment</th>\n",
       "      <th>Drug</th>\n",
       "      <th>Duration</th>\n",
       "      <th>Dosage</th>\n",
       "      <th>Route</th>\n",
       "      <th>Frequency</th>\n",
       "      <th>Form</th>\n",
       "    </tr>\n",
       "  </thead>\n",
       "  <tbody>\n",
       "    <tr>\n",
       "      <th>0</th>\n",
       "      <td>1.0</td>\n",
       "      <td>Un homme âgé de 77 ans présentait des signes c...</td>\n",
       "      <td>[[692, 712, Treatment]]</td>\n",
       "      <td>[]</td>\n",
       "      <td>blocage androgénique</td>\n",
       "      <td>NaN</td>\n",
       "      <td>NaN</td>\n",
       "      <td>NaN</td>\n",
       "      <td>NaN</td>\n",
       "      <td>NaN</td>\n",
       "      <td>NaN</td>\n",
       "    </tr>\n",
       "    <tr>\n",
       "      <th>1</th>\n",
       "      <td>2.0</td>\n",
       "      <td>Mr. R,R âgé de 53 ans sans antécédents patholo...</td>\n",
       "      <td>[[1224, 1237, Treatment]]</td>\n",
       "      <td>[]</td>\n",
       "      <td>radiothérapie</td>\n",
       "      <td>NaN</td>\n",
       "      <td>NaN</td>\n",
       "      <td>NaN</td>\n",
       "      <td>NaN</td>\n",
       "      <td>NaN</td>\n",
       "      <td>NaN</td>\n",
       "    </tr>\n",
       "    <tr>\n",
       "      <th>2</th>\n",
       "      <td>3.0</td>\n",
       "      <td>Un homme de 47 ans aux antécédents d’infarctus...</td>\n",
       "      <td>[]</td>\n",
       "      <td>[]</td>\n",
       "      <td>NaN</td>\n",
       "      <td>NaN</td>\n",
       "      <td>NaN</td>\n",
       "      <td>NaN</td>\n",
       "      <td>NaN</td>\n",
       "      <td>NaN</td>\n",
       "      <td>NaN</td>\n",
       "    </tr>\n",
       "    <tr>\n",
       "      <th>3</th>\n",
       "      <td>4.0</td>\n",
       "      <td>Mme C.S..., âgée de 25 ans, célibataire, sans ...</td>\n",
       "      <td>[]</td>\n",
       "      <td>[]</td>\n",
       "      <td>NaN</td>\n",
       "      <td>NaN</td>\n",
       "      <td>NaN</td>\n",
       "      <td>NaN</td>\n",
       "      <td>NaN</td>\n",
       "      <td>NaN</td>\n",
       "      <td>NaN</td>\n",
       "    </tr>\n",
       "    <tr>\n",
       "      <th>4</th>\n",
       "      <td>5.0</td>\n",
       "      <td>Un adénocarcinome prostatique avait été diagno...</td>\n",
       "      <td>[[183, 196, Treatment], [1374, 1388, Treatment...</td>\n",
       "      <td>[]</td>\n",
       "      <td>chimiothérapie</td>\n",
       "      <td>docétaxel</td>\n",
       "      <td>NaN</td>\n",
       "      <td>NaN</td>\n",
       "      <td>NaN</td>\n",
       "      <td>NaN</td>\n",
       "      <td>NaN</td>\n",
       "    </tr>\n",
       "  </tbody>\n",
       "</table>\n",
       "</div>"
      ],
      "text/plain": [
       "    id                                               text  \\\n",
       "0  1.0  Un homme âgé de 77 ans présentait des signes c...   \n",
       "1  2.0  Mr. R,R âgé de 53 ans sans antécédents patholo...   \n",
       "2  3.0  Un homme de 47 ans aux antécédents d’infarctus...   \n",
       "3  4.0  Mme C.S..., âgée de 25 ans, célibataire, sans ...   \n",
       "4  5.0  Un adénocarcinome prostatique avait été diagno...   \n",
       "\n",
       "                                              labels comments  \\\n",
       "0                            [[692, 712, Treatment]]       []   \n",
       "1                          [[1224, 1237, Treatment]]       []   \n",
       "2                                                 []       []   \n",
       "3                                                 []       []   \n",
       "4  [[183, 196, Treatment], [1374, 1388, Treatment...       []   \n",
       "\n",
       "              Treatment       Drug Duration Dosage Route Frequency Form  \n",
       "0  blocage androgénique        NaN      NaN    NaN   NaN       NaN  NaN  \n",
       "1         radiothérapie        NaN      NaN    NaN   NaN       NaN  NaN  \n",
       "2                   NaN        NaN      NaN    NaN   NaN       NaN  NaN  \n",
       "3                   NaN        NaN      NaN    NaN   NaN       NaN  NaN  \n",
       "4        chimiothérapie  docétaxel      NaN    NaN   NaN       NaN  NaN  "
      ]
     },
     "execution_count": 15,
     "metadata": {},
     "output_type": "execute_result"
    }
   ],
   "source": [
    "for index, row in tqdm(df.iterrows()):\n",
    "    text = df.text[index]\n",
    "    for label in df.labels[index]:\n",
    "        type = label[-1]\n",
    "        df.at[index, f\"{type}\"] = text[label[0]: label[1]]\n",
    "df.head()"
   ]
  },
  {
   "cell_type": "code",
   "execution_count": 3,
   "metadata": {},
   "outputs": [],
   "source": [
    "with open(os.path.join(DATA_PATH, 'trainset.jsonl'), 'r') as json_file:\n",
    "    json_list = list(json_file)"
   ]
  },
  {
   "cell_type": "code",
   "execution_count": 4,
   "metadata": {},
   "outputs": [
    {
     "name": "stderr",
     "output_type": "stream",
     "text": [
      "100%|██████████| 567/567 [00:00<00:00, 19284.55it/s]"
     ]
    },
    {
     "name": "stdout",
     "output_type": "stream",
     "text": [
      "(567, 2)\n"
     ]
    },
    {
     "name": "stderr",
     "output_type": "stream",
     "text": [
      "\n"
     ]
    },
    {
     "data": {
      "text/html": [
       "<div>\n",
       "<style scoped>\n",
       "    .dataframe tbody tr th:only-of-type {\n",
       "        vertical-align: middle;\n",
       "    }\n",
       "\n",
       "    .dataframe tbody tr th {\n",
       "        vertical-align: top;\n",
       "    }\n",
       "\n",
       "    .dataframe thead tr th {\n",
       "        text-align: left;\n",
       "    }\n",
       "</style>\n",
       "<table border=\"1\" class=\"dataframe\">\n",
       "  <thead>\n",
       "    <tr>\n",
       "      <th></th>\n",
       "      <th>id</th>\n",
       "      <th>text</th>\n",
       "    </tr>\n",
       "  </thead>\n",
       "  <tbody>\n",
       "    <tr>\n",
       "      <th>0</th>\n",
       "      <td>1</td>\n",
       "      <td>Un homme âgé de 77 ans présentait des signes c...</td>\n",
       "    </tr>\n",
       "    <tr>\n",
       "      <th>1</th>\n",
       "      <td>2</td>\n",
       "      <td>Mr. R,R âgé de 53 ans sans antécédents patholo...</td>\n",
       "    </tr>\n",
       "  </tbody>\n",
       "</table>\n",
       "</div>"
      ],
      "text/plain": [
       "  id                                               text\n",
       "0  1  Un homme âgé de 77 ans présentait des signes c...\n",
       "1  2  Mr. R,R âgé de 53 ans sans antécédents patholo..."
      ]
     },
     "execution_count": 4,
     "metadata": {},
     "output_type": "execute_result"
    }
   ],
   "source": [
    "data_list = []\n",
    "for json_str in tqdm(json_list):\n",
    "    result = json.loads(json_str)\n",
    "    data_list.append([result.get('id'), result.get('text')])\n",
    "\n",
    "df = pd.DataFrame(data_list, columns=[[\"id\", \"text\"]])\n",
    "print(df.shape)\n",
    "df.head(2)"
   ]
  },
  {
   "cell_type": "code",
   "execution_count": 16,
   "metadata": {},
   "outputs": [
    {
     "data": {
      "text/plain": [
       "\"Un homme âgé de 77 ans présentait des signes cliniques de prostatisme. Le TR notait une masse rénitente. Le taux de PSA était de 9,5 ng/ml. L'EER et l'imagerie par résonance magnétique nucléaire (IRM) de la prostate montraient dans la ZP droite, une masse kystique à parois épaisses de 4cm de diamètre et contenant des végétations endoluminales. L'analyse histologique des biopsies prostatiques échoguidées montrait un adénocarcinome ductal de score de Gleason 7 (4+3) et de contingent trabéculaire prédominant. L'analyse immuno-histologique pour les cytokératines de haut poids moléculaire (anti CK 903) était négative. Le stade clinique était lors du diagnostic : T3NxM0. Un traitement par blocage androgénique complet a été indiqué. Le PSA à 6 mois était à 0,36 ng/ml puis avait augmenté progressivement jusqu'à atteindre 3,2 ng/ml, 3 ans après le diagnostic. Une EER de contrôle à 3 ans a été réalisée et montrait la persistance de cette masse kystique mais avec des parois et des végétations endoluminales plus épaisses, denses et homogènes.\\n\""
      ]
     },
     "execution_count": 16,
     "metadata": {},
     "output_type": "execute_result"
    }
   ],
   "source": [
    "text_sample = df.iloc[0, 1]\n",
    "text_sample"
   ]
  },
  {
   "cell_type": "markdown",
   "metadata": {},
   "source": [
    "## Apply model\n",
    "### We use a back translation model taken from nlpaug"
   ]
  },
  {
   "cell_type": "code",
   "execution_count": 25,
   "metadata": {},
   "outputs": [],
   "source": [
    "back_translation_aug = naw.BackTranslationAug(\n",
    "    from_model_name='Helsinki-NLP/opus-mt-fr-en', \n",
    "    to_model_name='Helsinki-NLP/opus-mt-en-fr'\n",
    ")"
   ]
  },
  {
   "cell_type": "code",
   "execution_count": 20,
   "metadata": {},
   "outputs": [
    {
     "data": {
      "text/plain": [
       "True"
      ]
     },
     "execution_count": 20,
     "metadata": {},
     "output_type": "execute_result"
    }
   ],
   "source": [
    "'blocage androgénique' in text_sample"
   ]
  },
  {
   "cell_type": "code",
   "execution_count": 7,
   "metadata": {},
   "outputs": [
    {
     "data": {
      "text/plain": [
       "[\"L'examen clinique n'était pas inhabituel. Le toucher rectal était augmenté en volume, non douloureux, d'apparence adénomateuse. Le test PSA s'est avéré à un taux de 30,1 mg/ml (normal < 4 ng/ml). L'échographie endorectale a montré une structure de la prostate homogène. Après un échec d'échantillonnage vésical, une cystostomie minimale a été mise en place. Un ACR a montré une vessie normale et une urètre prostatique dilatée en amont d'une image lacustre à l'urètre prostatique (figure 1). Le patient a reçu une résection transurérale de la prostate avec des séquelles simples. L'examen anatomopathologique de la pièce a montré que tous les copalévaux impliquaient une prolifération tumorale faite de masses et de structures tubulo-papillaires avec une radiothérapie recombinante avec une cellule morphique recombinante et une cellule morphique recombinante.\"]"
      ]
     },
     "execution_count": 7,
     "metadata": {},
     "output_type": "execute_result"
    }
   ],
   "source": [
    "text_transformed = back_translation_aug.augment(text_sample)\n",
    "text_transformed"
   ]
  },
  {
   "cell_type": "markdown",
   "metadata": {},
   "source": [
    "Back translation applied on whole sentences change the number of words. It is hence impossible to track the position of labeled words.  \n",
    "We try to use translation on specific words or expressions.  "
   ]
  },
  {
   "cell_type": "code",
   "execution_count": 22,
   "metadata": {},
   "outputs": [],
   "source": [
    "def find_position(word, text):\n",
    "    word_length = len(word)\n",
    "    first_letter_positions = [m.start() for m in re.finditer(word, text)]\n",
    "    return [[start, start+word_length] for start in first_letter_positions]"
   ]
  },
  {
   "cell_type": "code",
   "execution_count": 42,
   "metadata": {},
   "outputs": [],
   "source": [
    "def process(text, label):\n",
    "    transformed_text, transformed_label = back_translation_aug.augment([text, label])\n",
    "\n",
    "    if transformed_text==text:\n",
    "        return 'same back-translation'\n",
    "\n",
    "    if label in transformed_text:\n",
    "        new_positions = find_position(label, transformed_text)\n",
    "        return transformed_text, [new_positions, label]\n",
    "\n",
    "    if transformed_label in transformed_text:\n",
    "        new_positions = find_position(transformed_label, transformed_text)\n",
    "        return transformed_text, [new_positions, transformed_label]\n",
    "\n",
    "    return 'label and transformed label not in transformed text', transformed_text, transformed_label"
   ]
  },
  {
   "cell_type": "code",
   "execution_count": 46,
   "metadata": {},
   "outputs": [
    {
     "data": {
      "text/plain": [
       "(\"Un mâle de 77 ans a montré des signes cliniques de prostatisme. TR a noté une masse renitante. PSA était de 9,5 ng/ml. ERA et l'imagerie par résonance magnétique prostatique (NRM) ont montré dans la main droite PZ une masse kystique avec des parois épaisses de 4 cm de diamètre contenant de la végétation endoluminale. L'analyse histologique des biopsies prostatiques échoguides a montré un adénocarcinome canalaire de Gleason 7 score (4+3) et un quota trabéculaire prédominant. L'analyse immuno-histologique des cytokératines de poids moléculaire élevé (anti CK 903) était négative. Le stade clinique était au diagnostic: T3NxM0. Un traitement complet de blocage androgène a été indiqué. Un PSA de 6 mois était de 0,36 ng/ml et a augmenté progressivement à 3,2 ng/ml, 3 ans après le diagnostic.\",\n",
       " [[[656, 673]], 'blocage androgène'])"
      ]
     },
     "execution_count": 46,
     "metadata": {},
     "output_type": "execute_result"
    }
   ],
   "source": [
    "result = process(text_sample, 'blocage androgénique')\n",
    "result"
   ]
  },
  {
   "cell_type": "code",
   "execution_count": 27,
   "metadata": {},
   "outputs": [
    {
     "ename": "TypeError",
     "evalue": "cannot unpack non-iterable NoneType object",
     "output_type": "error",
     "traceback": [
      "\u001b[0;31m---------------------------------------------------------------------------\u001b[0m",
      "\u001b[0;31mTypeError\u001b[0m                                 Traceback (most recent call last)",
      "Cell \u001b[0;32mIn [27], line 1\u001b[0m\n\u001b[0;32m----> 1\u001b[0m transformed_text, new_pos \u001b[39m=\u001b[39m result\n",
      "\u001b[0;31mTypeError\u001b[0m: cannot unpack non-iterable NoneType object"
     ]
    }
   ],
   "source": [
    "transformed_text, new_pos = result"
   ]
  },
  {
   "cell_type": "code",
   "execution_count": 30,
   "metadata": {},
   "outputs": [
    {
     "data": {
      "text/plain": [
       "\"Un homme âgé de 77 ans présentait des signes cliniques de prostatisme. Le TR notait une masse rénitente. Le taux de PSA était de 9,5 ng/ml. L'EER et l'imagerie par résonance magnétique nucléaire (IRM) de la prostate montraient dans la ZP droite, une masse kystique à parois épaisses de 4cm de diamètre et contenant des végétations endoluminales. L'analyse histologique des biopsies prostatiques échoguidées montrait un adénocarcinome ductal de score de Gleason 7 (4+3) et de contingent trabéculaire prédominant. L'analyse immuno-histologique pour les cytokératines de haut poids moléculaire (anti CK 903) était négative. Le stade clinique était lors du diagnostic : T3NxM0. Un traitement par blocage androgénique complet a été indiqué. Le PSA à 6 mois était à 0,36 ng/ml puis avait augmenté progressivement jusqu'à atteindre 3,2 ng/ml, 3 ans après le diagnostic. Une EER de contrôle à 3 ans a été réalisée et montrait la persistance de cette masse kystique mais avec des parois et des végétations endoluminales plus épaisses, denses et homogènes.\\n\""
      ]
     },
     "execution_count": 30,
     "metadata": {},
     "output_type": "execute_result"
    }
   ],
   "source": [
    "text_sample"
   ]
  },
  {
   "cell_type": "code",
   "execution_count": null,
   "metadata": {},
   "outputs": [],
   "source": []
  }
 ],
 "metadata": {
  "kernelspec": {
   "display_name": "Python 3.9.6 64-bit",
   "language": "python",
   "name": "python3"
  },
  "language_info": {
   "codemirror_mode": {
    "name": "ipython",
    "version": 3
   },
   "file_extension": ".py",
   "mimetype": "text/x-python",
   "name": "python",
   "nbconvert_exporter": "python",
   "pygments_lexer": "ipython3",
   "version": "3.9.6"
  },
  "orig_nbformat": 4,
  "vscode": {
   "interpreter": {
    "hash": "aee8b7b246df8f9039afb4144a1f6fd8d2ca17a180786b69acc140d282b71a49"
   }
  }
 },
 "nbformat": 4,
 "nbformat_minor": 2
}
